{
 "cells": [
  {
   "cell_type": "code",
   "execution_count": 12,
   "metadata": {},
   "outputs": [],
   "source": [
    "import numpy as np\n",
    "import pandas as pd\n",
    "from sklearn import *\n",
    "from sklearn.discriminant_analysis import QuadraticDiscriminantAnalysis\n",
    "from sklearn.naive_bayes import GaussianNB\n",
    "from sklearn.metrics import accuracy_score\n",
    "df = pd.read_csv('outflowset.csv')"
   ]
  },
  {
   "cell_type": "code",
   "execution_count": 13,
   "metadata": {},
   "outputs": [
    {
     "data": {
      "text/html": [
       "<div>\n",
       "<style scoped>\n",
       "    .dataframe tbody tr th:only-of-type {\n",
       "        vertical-align: middle;\n",
       "    }\n",
       "\n",
       "    .dataframe tbody tr th {\n",
       "        vertical-align: top;\n",
       "    }\n",
       "\n",
       "    .dataframe thead th {\n",
       "        text-align: right;\n",
       "    }\n",
       "</style>\n",
       "<table border=\"1\" class=\"dataframe\">\n",
       "  <thead>\n",
       "    <tr style=\"text-align: right;\">\n",
       "      <th></th>\n",
       "      <th>CompanyID</th>\n",
       "      <th>CurrentBalance</th>\n",
       "      <th>YearInflow</th>\n",
       "      <th>ManualTransactions</th>\n",
       "      <th>onlineTransactions</th>\n",
       "      <th>TotalTransactions</th>\n",
       "      <th>NoOfclosedAccounts</th>\n",
       "      <th>NewAccountsOpened</th>\n",
       "      <th>No.ofchequeBounces</th>\n",
       "      <th>No.of failedtransactions</th>\n",
       "      <th>YearOutflow</th>\n",
       "      <th>OverallPerspective</th>\n",
       "    </tr>\n",
       "  </thead>\n",
       "  <tbody>\n",
       "    <tr>\n",
       "      <th>0</th>\n",
       "      <td>213736</td>\n",
       "      <td>19720865</td>\n",
       "      <td>85423166848</td>\n",
       "      <td>858574</td>\n",
       "      <td>783433980</td>\n",
       "      <td>784292554</td>\n",
       "      <td>267</td>\n",
       "      <td>1219</td>\n",
       "      <td>6260</td>\n",
       "      <td>4859767</td>\n",
       "      <td>39398454056</td>\n",
       "      <td>1</td>\n",
       "    </tr>\n",
       "    <tr>\n",
       "      <th>1</th>\n",
       "      <td>195266</td>\n",
       "      <td>32839884</td>\n",
       "      <td>58259452519</td>\n",
       "      <td>266428</td>\n",
       "      <td>382577566</td>\n",
       "      <td>382843994</td>\n",
       "      <td>277</td>\n",
       "      <td>1277</td>\n",
       "      <td>4722</td>\n",
       "      <td>6046789</td>\n",
       "      <td>62379456226</td>\n",
       "      <td>1</td>\n",
       "    </tr>\n",
       "    <tr>\n",
       "      <th>2</th>\n",
       "      <td>122329</td>\n",
       "      <td>58265825</td>\n",
       "      <td>1458396697</td>\n",
       "      <td>38042</td>\n",
       "      <td>259758840</td>\n",
       "      <td>259796882</td>\n",
       "      <td>356</td>\n",
       "      <td>8658</td>\n",
       "      <td>7790</td>\n",
       "      <td>6365536</td>\n",
       "      <td>66275602599</td>\n",
       "      <td>0</td>\n",
       "    </tr>\n",
       "    <tr>\n",
       "      <th>3</th>\n",
       "      <td>140882</td>\n",
       "      <td>96567246</td>\n",
       "      <td>71337242780</td>\n",
       "      <td>293275</td>\n",
       "      <td>791973214</td>\n",
       "      <td>792266489</td>\n",
       "      <td>561</td>\n",
       "      <td>8508</td>\n",
       "      <td>5748</td>\n",
       "      <td>5430941</td>\n",
       "      <td>57504592227</td>\n",
       "      <td>1</td>\n",
       "    </tr>\n",
       "    <tr>\n",
       "      <th>4</th>\n",
       "      <td>135349</td>\n",
       "      <td>12132698</td>\n",
       "      <td>34037243545</td>\n",
       "      <td>691725</td>\n",
       "      <td>657876697</td>\n",
       "      <td>658568422</td>\n",
       "      <td>759</td>\n",
       "      <td>9489</td>\n",
       "      <td>2747</td>\n",
       "      <td>9017822</td>\n",
       "      <td>7447133585</td>\n",
       "      <td>0</td>\n",
       "    </tr>\n",
       "  </tbody>\n",
       "</table>\n",
       "</div>"
      ],
      "text/plain": [
       "   CompanyID  CurrentBalance   YearInflow  ManualTransactions  \\\n",
       "0     213736        19720865  85423166848              858574   \n",
       "1     195266        32839884  58259452519              266428   \n",
       "2     122329        58265825   1458396697               38042   \n",
       "3     140882        96567246  71337242780              293275   \n",
       "4     135349        12132698  34037243545              691725   \n",
       "\n",
       "   onlineTransactions  TotalTransactions  NoOfclosedAccounts  \\\n",
       "0           783433980          784292554                 267   \n",
       "1           382577566          382843994                 277   \n",
       "2           259758840          259796882                 356   \n",
       "3           791973214          792266489                 561   \n",
       "4           657876697          658568422                 759   \n",
       "\n",
       "   NewAccountsOpened  No.ofchequeBounces  No.of failedtransactions  \\\n",
       "0               1219                6260                   4859767   \n",
       "1               1277                4722                   6046789   \n",
       "2               8658                7790                   6365536   \n",
       "3               8508                5748                   5430941   \n",
       "4               9489                2747                   9017822   \n",
       "\n",
       "   YearOutflow  OverallPerspective  \n",
       "0  39398454056                   1  \n",
       "1  62379456226                   1  \n",
       "2  66275602599                   0  \n",
       "3  57504592227                   1  \n",
       "4   7447133585                   0  "
      ]
     },
     "execution_count": 13,
     "metadata": {},
     "output_type": "execute_result"
    }
   ],
   "source": [
    "df.head()"
   ]
  },
  {
   "cell_type": "code",
   "execution_count": 14,
   "metadata": {},
   "outputs": [],
   "source": [
    "data = df[[\"CurrentBalance\",\"YearInflow\",\"ManualTransactions\",\"onlineTransactions\",\"TotalTransactions\",\"NoOfclosedAccounts\",\"NewAccountsOpened\",\"No.ofchequeBounces\",\"No.of failedtransactions\",\"YearOutflow\",\"OverallPerspective\"]].to_numpy()"
   ]
  },
  {
   "cell_type": "code",
   "execution_count": 15,
   "metadata": {},
   "outputs": [],
   "source": [
    "inputs = data[:,:-1]\n",
    "outputs = data[:, -1]\n",
    "training_inputs = inputs[:1500]\n",
    "training_outputs = outputs[:1500]\n",
    "testing_inputs = inputs[1500:]\n",
    "testing_outputs = outputs[1500:]"
   ]
  },
  {
   "cell_type": "markdown",
   "metadata": {},
   "source": [
    "#### classifier = QuadraticDiscriminantAnalysis()\n",
    "classifier.fit(training_inputs, training_outputs)\n",
    "predictions = classifier.predict(testing_inputs)\n",
    "accuracy = 100.0 * accuracy_score(testing_outputs, predictions)\n",
    "print (\"The accuracy of QDA Classifier on testing data is: \" + str(accuracy))"
   ]
  },
  {
   "cell_type": "code",
   "execution_count": 16,
   "metadata": {},
   "outputs": [
    {
     "name": "stdout",
     "output_type": "stream",
     "text": [
      "QDA prediction on the first test set is: [0]\n"
     ]
    }
   ],
   "source": [
    "testSet = [[96045730,34021170192,249168,257583726,257832894,138,2731,5252,758327,22241415950]]\n",
    "test = pd.DataFrame(testSet)\n",
    "predictions = classifier.predict(test)\n",
    "print('QDA prediction on the first test set is:',predictions)"
   ]
  },
  {
   "cell_type": "code",
   "execution_count": 17,
   "metadata": {},
   "outputs": [
    {
     "name": "stdout",
     "output_type": "stream",
     "text": [
      "QDA prediction on the second test set is: [1]\n"
     ]
    }
   ],
   "source": [
    "testSet = [[41180533,57794202309,340947,874020505,874361452,952,6220,7405,5380871,17026153603]]\n",
    "test = pd.DataFrame(testSet)\n",
    "predictions = classifier.predict(test)\n",
    "print('QDA prediction on the second test set is:',predictions)"
   ]
  },
  {
   "cell_type": "code",
   "execution_count": 18,
   "metadata": {},
   "outputs": [
    {
     "name": "stdout",
     "output_type": "stream",
     "text": [
      "QDA prediction on the third test set is: [2]\n"
     ]
    }
   ],
   "source": [
    "testSet = [[64265782,77824207077,980013,594929847,595909860,211,9439,44,1010145,79314294345]]\n",
    "test = pd.DataFrame(testSet)\n",
    "predictions = classifier.predict(test)\n",
    "print('QDA prediction on the third test set is:',predictions)"
   ]
  },
  {
   "cell_type": "code",
   "execution_count": 19,
   "metadata": {},
   "outputs": [],
   "source": [
    "#In the output, 0 indicates 'High Failure Risk',1 indicates 'Medium Failure Risk',2 indicates 'Low Failure Risk'"
   ]
  },
  {
   "cell_type": "code",
   "execution_count": 20,
   "metadata": {},
   "outputs": [],
   "source": [
    "data = df[[\"CurrentBalance\",\"YearInflow\",\"ManualTransactions\",\"onlineTransactions\",\"TotalTransactions\",\"NoOfclosedAccounts\",\"NewAccountsOpened\",\"No.ofchequeBounces\",\"No.of failedtransactions\",\"YearOutflow\",\"OverallPerspective\"]].to_numpy()\n",
    "inputs = data[:,:-1]\n",
    "outputs = data[:, -1]\n",
    "training_inputs = inputs[:1500]\n",
    "training_outputs = outputs[:1500]\n",
    "testing_inputs = inputs[1500:]\n",
    "testing_outputs = outputs[1500:]"
   ]
  },
  {
   "cell_type": "code",
   "execution_count": 21,
   "metadata": {},
   "outputs": [
    {
     "name": "stdout",
     "output_type": "stream",
     "text": [
      "The accuracy of GNB Classifier on testing data is: 88.11833171677984\n"
     ]
    }
   ],
   "source": [
    "classifier = GaussianNB()\n",
    "classifier.fit(training_inputs, training_outputs)\n",
    "predictions = classifier.predict(testing_inputs)\n",
    "accuracy = 100.0 * accuracy_score(testing_outputs, predictions)\n",
    "print (\"The accuracy of GNB Classifier on testing data is: \" + str(accuracy))"
   ]
  },
  {
   "cell_type": "code",
   "execution_count": 22,
   "metadata": {},
   "outputs": [
    {
     "name": "stdout",
     "output_type": "stream",
     "text": [
      "GNB prediction on the first test set is: [0]\n"
     ]
    }
   ],
   "source": [
    "testSet = [[96045730,34021170192,249168,257583726,257832894,138,2731,5252,758327,22241415950]]\n",
    "test = pd.DataFrame(testSet)\n",
    "predictions = classifier.predict(test)\n",
    "print('GNB prediction on the first test set is:',predictions)"
   ]
  },
  {
   "cell_type": "code",
   "execution_count": 23,
   "metadata": {},
   "outputs": [
    {
     "name": "stdout",
     "output_type": "stream",
     "text": [
      "GNB prediction on the second test set is: [1]\n"
     ]
    }
   ],
   "source": [
    "testSet = [[41180533,57794202309,340947,874020505,874361452,952,6220,7405,5380871,17026153603]]\n",
    "test = pd.DataFrame(testSet)\n",
    "predictions = classifier.predict(test)\n",
    "print('GNB prediction on the second test set is:',predictions)"
   ]
  },
  {
   "cell_type": "code",
   "execution_count": 24,
   "metadata": {},
   "outputs": [
    {
     "name": "stdout",
     "output_type": "stream",
     "text": [
      "GNB prediction on the third test set is: [2]\n"
     ]
    }
   ],
   "source": [
    "testSet = [[64265782,77824207077,980013,594929847,595909860,211,9439,44,1010145,79314294345]]\n",
    "test = pd.DataFrame(testSet)\n",
    "predictions = classifier.predict(test)\n",
    "print('GNB prediction on the third test set is:',predictions)"
   ]
  },
  {
   "cell_type": "code",
   "execution_count": 25,
   "metadata": {},
   "outputs": [],
   "source": [
    "#In the output, 0 indicates 'High Failure Risk',1 indicates 'Medium Failure Risk',2 indicates 'Low Failure Risk'"
   ]
  },
  {
   "cell_type": "code",
   "execution_count": null,
   "metadata": {},
   "outputs": [],
   "source": []
  },
  {
   "cell_type": "code",
   "execution_count": null,
   "metadata": {},
   "outputs": [],
   "source": []
  }
 ],
 "metadata": {
  "kernelspec": {
   "display_name": "Python 3",
   "language": "python",
   "name": "python3"
  },
  "language_info": {
   "codemirror_mode": {
    "name": "ipython",
    "version": 3
   },
   "file_extension": ".py",
   "mimetype": "text/x-python",
   "name": "python",
   "nbconvert_exporter": "python",
   "pygments_lexer": "ipython3",
   "version": "3.7.6"
  }
 },
 "nbformat": 4,
 "nbformat_minor": 5
}
